{
 "cells": [
  {
   "cell_type": "code",
   "execution_count": 1,
   "metadata": {},
   "outputs": [
    {
     "name": "stdout",
     "output_type": "stream",
     "text": [
      "{1: {'name': 'rock', 'age': '27', 'sex': 'Male'}, 2: {'name': 'dev', 'age': '22', 'sex': 'Female'}}\n"
     ]
    }
   ],
   "source": [
    "#Theoretical Questions: \n",
    "\n",
    "# 1. What is the syntax to call a constructor of a base class from child class\n",
    "   # ans  =  By using super class\n",
    "    \n",
    "#2.. How is a class made as inherited class (syntax of child class) \n",
    "    # ans = class Parent:\n",
    "    #             pass\n",
    "     #       class Child(Parent):\n",
    "      #           pass\n",
    "     \n",
    "       #       Here the class child inherits the class parent\n",
    "    \n",
    " #3.Print an element of a nested dictionary \n",
    "people = {1: {'name': 'rock', 'age': '27', 'sex': 'Male'},\n",
    "          2: {'name': 'dev', 'age': '22', 'sex': 'Female'}}\n",
    "\n",
    "print(people)"
   ]
  },
  {
   "cell_type": "code",
   "execution_count": 2,
   "metadata": {},
   "outputs": [
    {
     "name": "stdout",
     "output_type": "stream",
     "text": [
      "Enter Value 1:- 5\n",
      "Enter Value 2:- 5\n",
      "Enter Value 3:- 4\n",
      "3.5355339059327378\n"
     ]
    }
   ],
   "source": [
    "#Practical Questions:\n",
    "# SET---------------C\n",
    "#Q1.  Write a program that calculates and prints the value according to the formula given below. Take three values from user. Q= square root (( 2*value1*value2)/value3)\n",
    "import math\n",
    "value1 = int(input(\"Enter Value 1:- \"))\n",
    "value2 = int(input(\"Enter Value 2:- \"))\n",
    "value3 = int(input(\"Enter Value 3:- \"))\n",
    "z = (2*value1*value2)/value3\n",
    "q = math.sqrt(z)\n",
    "print(q)"
   ]
  },
  {
   "cell_type": "code",
   "execution_count": 3,
   "metadata": {},
   "outputs": [
    {
     "name": "stdout",
     "output_type": "stream",
     "text": [
      "Enter any string:- drishti\n",
      "d\n",
      "i\n",
      "h\n",
      "i\n"
     ]
    }
   ],
   "source": [
    "#Q2.  Please write a program which accepts a string from console and print the characters that have even indexes.\n",
    "s = input(\"Enter any string:- \")\n",
    "length = len(s)\n",
    "for x in range(0,length):\n",
    "    if (x%2==0):\n",
    "        print(s[x])"
   ]
  },
  {
   "cell_type": "code",
   "execution_count": null,
   "metadata": {},
   "outputs": [],
   "source": []
  }
 ],
 "metadata": {
  "kernelspec": {
   "display_name": "Python 3",
   "language": "python",
   "name": "python3"
  },
  "language_info": {
   "codemirror_mode": {
    "name": "ipython",
    "version": 3
   },
   "file_extension": ".py",
   "mimetype": "text/x-python",
   "name": "python",
   "nbconvert_exporter": "python",
   "pygments_lexer": "ipython3",
   "version": "3.7.4"
  }
 },
 "nbformat": 4,
 "nbformat_minor": 2
}
